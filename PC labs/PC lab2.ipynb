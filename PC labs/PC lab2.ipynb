{
 "cells": [
  {
   "cell_type": "markdown",
   "metadata": {},
   "source": [
    "# PC Lab #2 - Group 8 - Bubu, Benedikt, Berkant"
   ]
  },
  {
   "cell_type": "markdown",
   "metadata": {},
   "source": [
    "## Task #1 : Visualization and 1st step toward the CAPM"
   ]
  },
  {
   "cell_type": "markdown",
   "metadata": {},
   "source": [
    "Use the PCLab_Data.xlsx to produce scatter plots of each stocks’ daily returns\n",
    " against the market daily returns\n",
    " • Comment: is there an apparent correlation? Strong? For which stock"
   ]
  },
  {
   "cell_type": "code",
   "execution_count": 1,
   "metadata": {},
   "outputs": [
    {
     "name": "stdout",
     "output_type": "stream",
     "text": [
      "            Date        AAPL          BA          T        MGM         AMZN  \\\n",
      "0     2012-01-12   60.198570   75.510002  30.120001  12.130000   175.929993   \n",
      "1     2012-01-13   59.972858   74.599998  30.070000  12.350000   178.419998   \n",
      "2     2012-01-17   60.671429   75.239998  30.250000  12.250000   181.660004   \n",
      "3     2012-01-18   61.301430   75.059998  30.330000  12.730000   189.440002   \n",
      "4     2012-01-19   61.107143   75.559998  30.420000  12.800000   194.449997   \n",
      "...          ...         ...         ...        ...        ...          ...   \n",
      "2154  2020-08-05  440.250000  174.279999  29.850000  16.719999  3205.030029   \n",
      "2155  2020-08-06  455.609985  172.199997  29.840000  18.459999  3225.000000   \n",
      "2156  2020-08-07  444.450012  170.020004  30.020000  19.030001  3167.459961   \n",
      "2157  2020-08-10  450.910004  179.410004  30.200001  21.650000  3148.159912   \n",
      "2158  2020-08-11  437.500000  180.130005  30.200001  21.500000  3080.669922   \n",
      "\n",
      "             IBM         TSLA         GOOG        sp500  \n",
      "0     180.550003    28.250000   313.644379  1295.500000  \n",
      "1     179.160004    22.790001   311.328064  1289.089966  \n",
      "2     180.000000    26.600000   313.116364  1293.670044  \n",
      "3     181.070007    26.809999   315.273285  1308.040039  \n",
      "4     180.520004    26.760000   318.590851  1314.500000  \n",
      "...          ...          ...          ...          ...  \n",
      "2154  125.449997  1485.020020  1473.609985  3327.770020  \n",
      "2155  126.120003  1489.579956  1500.099976  3349.159912  \n",
      "2156  124.959999  1452.709961  1494.489990  3351.280029  \n",
      "2157  127.110001  1418.569946  1496.099976  3360.469971  \n",
      "2158  126.750000  1374.390015  1480.319946  3333.689941  \n",
      "\n",
      "[2159 rows x 10 columns]\n"
     ]
    }
   ],
   "source": [
    "# Loading in csv with pandas\n",
    "\n",
    "import pandas as pd\n",
    "\n",
    "df = pd.read_csv(r\"C:/Users/frien/OneDrive/Desktop/Bocconi/Finance with Big Data/PC labs/Data_PCLab1_Stock.csv\")\n",
    "\n",
    "print(df)\n",
    "\n",
    "'''\n",
    "Before visualizing the scatter plot, we will calculate again from the stock price data the normalized and\n",
    "we should calculate the daily returns for each stock. Note, these will be taken from the last PC lab (for more\n",
    "explanation)\n",
    "\n",
    "'''\n",
    "\n",
    "# Functio\n",
    "def normalized_price(df):\n",
    "    \n",
    "    df = df.set_index('Date')\n",
    "    initial_price = df.loc['2012-01-12']\n",
    "    normalized_data = df/initial_price\n",
    "    normalized_data = normalized_data.reset_index()\n",
    "    return normalized_data\n",
    "\n",
    "\n",
    "\n",
    "\n"
   ]
  },
  {
   "cell_type": "code",
   "execution_count": null,
   "metadata": {},
   "outputs": [],
   "source": [
    "import matplotlib.pyplot as plt\n",
    " \n",
    "# Creating Scatter Plots for the daily returns of stocks \n",
    "\n"
   ]
  },
  {
   "cell_type": "markdown",
   "metadata": {},
   "source": []
  }
 ],
 "metadata": {
  "kernelspec": {
   "display_name": "Python 3",
   "language": "python",
   "name": "python3"
  },
  "language_info": {
   "codemirror_mode": {
    "name": "ipython",
    "version": 3
   },
   "file_extension": ".py",
   "mimetype": "text/x-python",
   "name": "python",
   "nbconvert_exporter": "python",
   "pygments_lexer": "ipython3",
   "version": "3.12.3"
  }
 },
 "nbformat": 4,
 "nbformat_minor": 2
}
